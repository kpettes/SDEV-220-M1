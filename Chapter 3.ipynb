{
 "cells": [
  {
   "cell_type": "code",
   "execution_count": 5,
   "id": "e5371ddd-780e-4253-993d-8dbeb1e3e636",
   "metadata": {},
   "outputs": [
    {
     "name": "stdout",
     "output_type": "stream",
     "text": [
      "3600\n"
     ]
    }
   ],
   "source": [
    "seconds = 60\n",
    "minutes = 60\n",
    "answer = seconds * minutes\n",
    "print(answer) "
   ]
  },
  {
   "cell_type": "code",
   "execution_count": 6,
   "id": "9bf4e03b-92bd-4183-83e2-df357b1dc445",
   "metadata": {},
   "outputs": [
    {
     "name": "stdout",
     "output_type": "stream",
     "text": [
      "86400\n"
     ]
    }
   ],
   "source": [
    "seconds_per_hour = 3600\n",
    "day = 24\n",
    "answer = seconds_per_hour * day\n",
    "print(answer) "
   ]
  },
  {
   "cell_type": "code",
   "execution_count": 7,
   "id": "6baebedc-227c-4318-91e2-769943f9d36b",
   "metadata": {},
   "outputs": [
    {
     "name": "stdout",
     "output_type": "stream",
     "text": [
      "86400\n"
     ]
    }
   ],
   "source": [
    "seconds_per_hour = 3600\n",
    "day = 24\n",
    "seconds_per_day = seconds_per_hour * day\n",
    "print (seconds_per_day) "
   ]
  },
  {
   "cell_type": "code",
   "execution_count": 8,
   "id": "4d900cef-594e-4bed-92fd-d498ed80b67c",
   "metadata": {},
   "outputs": [
    {
     "name": "stdout",
     "output_type": "stream",
     "text": [
      "24.0\n"
     ]
    }
   ],
   "source": [
    "answer = seconds_per_day / seconds_per_hour\n",
    "print(answer) "
   ]
  },
  {
   "cell_type": "code",
   "execution_count": 9,
   "id": "5fb04ef5-ff59-42d0-9652-83b0c796bf55",
   "metadata": {},
   "outputs": [
    {
     "name": "stdout",
     "output_type": "stream",
     "text": [
      "24\n"
     ]
    }
   ],
   "source": [
    "result = seconds_per_day // seconds_per_hour\n",
    "print(result) "
   ]
  },
  {
   "cell_type": "code",
   "execution_count": null,
   "id": "57a18ab7-6688-4770-8dac-c2305b20cce6",
   "metadata": {},
   "outputs": [],
   "source": []
  }
 ],
 "metadata": {
  "kernelspec": {
   "display_name": "Python 3 (ipykernel)",
   "language": "python",
   "name": "python3"
  },
  "language_info": {
   "codemirror_mode": {
    "name": "ipython",
    "version": 3
   },
   "file_extension": ".py",
   "mimetype": "text/x-python",
   "name": "python",
   "nbconvert_exporter": "python",
   "pygments_lexer": "ipython3",
   "version": "3.12.7"
  }
 },
 "nbformat": 4,
 "nbformat_minor": 5
}
